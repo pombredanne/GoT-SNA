{
 "metadata": {
  "name": "data_manipulation"
 },
 "nbformat": 3,
 "nbformat_minor": 0,
 "worksheets": [
  {
   "cells": [
    {
     "cell_type": "code",
     "collapsed": false,
     "input": [
      "import networkx as nx\n",
      "import pandas as pd"
     ],
     "language": "python",
     "metadata": {},
     "outputs": [],
     "prompt_number": 38
    },
    {
     "cell_type": "code",
     "collapsed": false,
     "input": [
      "events = pd.read_csv('data/events.csv')\n",
      "characters = pd.read_csv('data/characters.csv')"
     ],
     "language": "python",
     "metadata": {},
     "outputs": [],
     "prompt_number": 39
    },
    {
     "cell_type": "code",
     "collapsed": false,
     "input": [
      "events"
     ],
     "language": "python",
     "metadata": {},
     "outputs": [
      {
       "output_type": "pyout",
       "prompt_number": 40,
       "text": [
        "<class 'pandas.core.frame.DataFrame'>\n",
        "Int64Index: 4459 entries, 0 to 4458\n",
        "Data columns:\n",
        "chapterID      4459  non-null values\n",
        "characterID    4459  non-null values\n",
        "event          4459  non-null values\n",
        "details        72  non-null values\n",
        "withID         223  non-null values\n",
        "team           164  non-null values\n",
        "title          55  non-null values\n",
        "prefix         45  non-null values\n",
        "Unnamed: 8     1  non-null values\n",
        "dtypes: float64(1), int64(2), object(6)"
       ]
      }
     ],
     "prompt_number": 40
    },
    {
     "cell_type": "code",
     "collapsed": false,
     "input": [
      "events.head()"
     ],
     "language": "python",
     "metadata": {},
     "outputs": [
      {
       "html": [
        "<div style=\"max-height:1000px;max-width:1500px;overflow:auto;\">\n",
        "<table border=\"1\" class=\"dataframe\">\n",
        "  <thead>\n",
        "    <tr style=\"text-align: right;\">\n",
        "      <th></th>\n",
        "      <th>chapterID</th>\n",
        "      <th>characterID</th>\n",
        "      <th>event</th>\n",
        "      <th>details</th>\n",
        "      <th>withID</th>\n",
        "      <th>team</th>\n",
        "      <th>title</th>\n",
        "      <th>prefix</th>\n",
        "      <th>Unnamed: 8</th>\n",
        "    </tr>\n",
        "  </thead>\n",
        "  <tbody>\n",
        "    <tr>\n",
        "      <th>0</th>\n",
        "      <td> 0</td>\n",
        "      <td>  557</td>\n",
        "      <td> mentioned</td>\n",
        "      <td> NaN</td>\n",
        "      <td>NaN</td>\n",
        "      <td> NaN</td>\n",
        "      <td> NaN</td>\n",
        "      <td> NaN</td>\n",
        "      <td> NaN</td>\n",
        "    </tr>\n",
        "    <tr>\n",
        "      <th>1</th>\n",
        "      <td> 0</td>\n",
        "      <td>  808</td>\n",
        "      <td> mentioned</td>\n",
        "      <td> NaN</td>\n",
        "      <td>NaN</td>\n",
        "      <td> NaN</td>\n",
        "      <td> NaN</td>\n",
        "      <td> NaN</td>\n",
        "      <td> NaN</td>\n",
        "    </tr>\n",
        "    <tr>\n",
        "      <th>2</th>\n",
        "      <td> 0</td>\n",
        "      <td> 1045</td>\n",
        "      <td> mentioned</td>\n",
        "      <td> NaN</td>\n",
        "      <td>NaN</td>\n",
        "      <td> NaN</td>\n",
        "      <td> NaN</td>\n",
        "      <td> NaN</td>\n",
        "      <td> NaN</td>\n",
        "    </tr>\n",
        "    <tr>\n",
        "      <th>3</th>\n",
        "      <td> 0</td>\n",
        "      <td> 1434</td>\n",
        "      <td> mentioned</td>\n",
        "      <td> NaN</td>\n",
        "      <td>NaN</td>\n",
        "      <td> NaN</td>\n",
        "      <td> NaN</td>\n",
        "      <td> NaN</td>\n",
        "      <td> NaN</td>\n",
        "    </tr>\n",
        "    <tr>\n",
        "      <th>4</th>\n",
        "      <td> 0</td>\n",
        "      <td> 1808</td>\n",
        "      <td> mentioned</td>\n",
        "      <td> NaN</td>\n",
        "      <td>NaN</td>\n",
        "      <td> NaN</td>\n",
        "      <td> NaN</td>\n",
        "      <td> NaN</td>\n",
        "      <td> NaN</td>\n",
        "    </tr>\n",
        "  </tbody>\n",
        "</table>\n",
        "</div>"
       ],
       "output_type": "pyout",
       "prompt_number": 41,
       "text": [
        "   chapterID  characterID      event details  withID team title prefix Unnamed: 8\n",
        "0          0          557  mentioned     NaN     NaN  NaN   NaN    NaN        NaN\n",
        "1          0          808  mentioned     NaN     NaN  NaN   NaN    NaN        NaN\n",
        "2          0         1045  mentioned     NaN     NaN  NaN   NaN    NaN        NaN\n",
        "3          0         1434  mentioned     NaN     NaN  NaN   NaN    NaN        NaN\n",
        "4          0         1808  mentioned     NaN     NaN  NaN   NaN    NaN        NaN"
       ]
      }
     ],
     "prompt_number": 41
    },
    {
     "cell_type": "code",
     "collapsed": false,
     "input": [
      "killed = events[events['event'] == 'killed']"
     ],
     "language": "python",
     "metadata": {},
     "outputs": [],
     "prompt_number": 54
    },
    {
     "cell_type": "code",
     "collapsed": false,
     "input": [
      "killed.head()"
     ],
     "language": "python",
     "metadata": {},
     "outputs": [
      {
       "html": [
        "<div style=\"max-height:1000px;max-width:1500px;overflow:auto;\">\n",
        "<table border=\"1\" class=\"dataframe\">\n",
        "  <thead>\n",
        "    <tr style=\"text-align: right;\">\n",
        "      <th></th>\n",
        "      <th>chapterID</th>\n",
        "      <th>characterID</th>\n",
        "      <th>event</th>\n",
        "      <th>details</th>\n",
        "      <th>withID</th>\n",
        "      <th>team</th>\n",
        "      <th>title</th>\n",
        "      <th>prefix</th>\n",
        "      <th>Unnamed: 8</th>\n",
        "    </tr>\n",
        "  </thead>\n",
        "  <tbody>\n",
        "    <tr>\n",
        "      <th>7  </th>\n",
        "      <td>  0</td>\n",
        "      <td> 1808</td>\n",
        "      <td> killed</td>\n",
        "      <td> by a wight</td>\n",
        "      <td> 2068</td>\n",
        "      <td> NaN</td>\n",
        "      <td> NaN</td>\n",
        "      <td> NaN</td>\n",
        "      <td> NaN</td>\n",
        "    </tr>\n",
        "    <tr>\n",
        "      <th>9  </th>\n",
        "      <td>  0</td>\n",
        "      <td> 1825</td>\n",
        "      <td> killed</td>\n",
        "      <td>        NaN</td>\n",
        "      <td> 1808</td>\n",
        "      <td> NaN</td>\n",
        "      <td> NaN</td>\n",
        "      <td> NaN</td>\n",
        "      <td> NaN</td>\n",
        "    </tr>\n",
        "    <tr>\n",
        "      <th>25 </th>\n",
        "      <td>  1</td>\n",
        "      <td>  557</td>\n",
        "      <td> killed</td>\n",
        "      <td>        NaN</td>\n",
        "      <td>  456</td>\n",
        "      <td> NaN</td>\n",
        "      <td> NaN</td>\n",
        "      <td> NaN</td>\n",
        "      <td> NaN</td>\n",
        "    </tr>\n",
        "    <tr>\n",
        "      <th>289</th>\n",
        "      <td> 16</td>\n",
        "      <td> 1186</td>\n",
        "      <td> killed</td>\n",
        "      <td>        NaN</td>\n",
        "      <td> 1528</td>\n",
        "      <td> NaN</td>\n",
        "      <td> NaN</td>\n",
        "      <td> NaN</td>\n",
        "      <td> NaN</td>\n",
        "    </tr>\n",
        "    <tr>\n",
        "      <th>518</th>\n",
        "      <td> 29</td>\n",
        "      <td>  755</td>\n",
        "      <td> killed</td>\n",
        "      <td>        NaN</td>\n",
        "      <td>  629</td>\n",
        "      <td> NaN</td>\n",
        "      <td> NaN</td>\n",
        "      <td> NaN</td>\n",
        "      <td> NaN</td>\n",
        "    </tr>\n",
        "  </tbody>\n",
        "</table>\n",
        "</div>"
       ],
       "output_type": "pyout",
       "prompt_number": 55,
       "text": [
        "     chapterID  characterID   event     details  withID team title prefix Unnamed: 8\n",
        "7            0         1808  killed  by a wight    2068  NaN   NaN    NaN        NaN\n",
        "9            0         1825  killed         NaN    1808  NaN   NaN    NaN        NaN\n",
        "25           1          557  killed         NaN     456  NaN   NaN    NaN        NaN\n",
        "289         16         1186  killed         NaN    1528  NaN   NaN    NaN        NaN\n",
        "518         29          755  killed         NaN     629  NaN   NaN    NaN        NaN"
       ]
      }
     ],
     "prompt_number": 55
    },
    {
     "cell_type": "code",
     "collapsed": false,
     "input": [
      "new_data = pd.DataFrame(killed, index=None,columns=['characterID','event','withID'])"
     ],
     "language": "python",
     "metadata": {},
     "outputs": [],
     "prompt_number": 64
    },
    {
     "cell_type": "code",
     "collapsed": false,
     "input": [
      "new_data.head()"
     ],
     "language": "python",
     "metadata": {},
     "outputs": [
      {
       "html": [
        "<div style=\"max-height:1000px;max-width:1500px;overflow:auto;\">\n",
        "<table border=\"1\" class=\"dataframe\">\n",
        "  <thead>\n",
        "    <tr style=\"text-align: right;\">\n",
        "      <th></th>\n",
        "      <th>characterID</th>\n",
        "      <th>event</th>\n",
        "      <th>withID</th>\n",
        "    </tr>\n",
        "  </thead>\n",
        "  <tbody>\n",
        "    <tr>\n",
        "      <th>7  </th>\n",
        "      <td> 1808</td>\n",
        "      <td> killed</td>\n",
        "      <td> 2068</td>\n",
        "    </tr>\n",
        "    <tr>\n",
        "      <th>9  </th>\n",
        "      <td> 1825</td>\n",
        "      <td> killed</td>\n",
        "      <td> 1808</td>\n",
        "    </tr>\n",
        "    <tr>\n",
        "      <th>25 </th>\n",
        "      <td>  557</td>\n",
        "      <td> killed</td>\n",
        "      <td>  456</td>\n",
        "    </tr>\n",
        "    <tr>\n",
        "      <th>289</th>\n",
        "      <td> 1186</td>\n",
        "      <td> killed</td>\n",
        "      <td> 1528</td>\n",
        "    </tr>\n",
        "    <tr>\n",
        "      <th>518</th>\n",
        "      <td>  755</td>\n",
        "      <td> killed</td>\n",
        "      <td>  629</td>\n",
        "    </tr>\n",
        "  </tbody>\n",
        "</table>\n",
        "</div>"
       ],
       "output_type": "pyout",
       "prompt_number": 62,
       "text": [
        "     characterID   event  withID\n",
        "7           1808  killed    2068\n",
        "9           1825  killed    1808\n",
        "25           557  killed     456\n",
        "289         1186  killed    1528\n",
        "518          755  killed     629"
       ]
      }
     ],
     "prompt_number": 62
    },
    {
     "cell_type": "code",
     "collapsed": false,
     "input": [
      "#replace NaN in killedby with a unique ID == 2000"
     ],
     "language": "python",
     "metadata": {},
     "outputs": [],
     "prompt_number": 69
    },
    {
     "cell_type": "code",
     "collapsed": false,
     "input": [
      "killed_clean = new_data.fillna(value='2000')"
     ],
     "language": "python",
     "metadata": {},
     "outputs": [],
     "prompt_number": 75
    },
    {
     "cell_type": "code",
     "collapsed": false,
     "input": [
      "killed_clean['withID']"
     ],
     "language": "python",
     "metadata": {},
     "outputs": [
      {
       "output_type": "pyout",
       "prompt_number": 76,
       "text": [
        "7      2068\n",
        "9      1808\n",
        "25      456\n",
        "289    1528\n",
        "518     629\n",
        "603    2000\n",
        "625    1648\n",
        "653     256\n",
        "719     438\n",
        "736     922\n",
        "760     790\n",
        "765    1140\n",
        "779    2000\n",
        "795     851\n",
        "837     629\n",
        "...\n",
        "3779    1860\n",
        "3780    1860\n",
        "3781    1860\n",
        "4054    1057\n",
        "4148    1371\n",
        "4150    2000\n",
        "4211    1763\n",
        "4257    2037\n",
        "4266    2000\n",
        "4349     163\n",
        "4352    2000\n",
        "4428    1757\n",
        "4429    1757\n",
        "4434     868\n",
        "4443     629\n",
        "Name: withID, Length: 147"
       ]
      }
     ],
     "prompt_number": 76
    },
    {
     "cell_type": "code",
     "collapsed": false,
     "input": [],
     "language": "python",
     "metadata": {},
     "outputs": []
    }
   ],
   "metadata": {}
  }
 ]
}